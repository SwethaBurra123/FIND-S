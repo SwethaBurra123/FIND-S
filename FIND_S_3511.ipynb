{
  "nbformat": 4,
  "nbformat_minor": 0,
  "metadata": {
    "colab": {
      "name": "FIND S-3511.ipynb",
      "provenance": []
    },
    "kernelspec": {
      "name": "python3",
      "display_name": "Python 3"
    },
    "language_info": {
      "name": "python"
    }
  },
  "cells": [
    {
      "cell_type": "code",
      "metadata": {
        "id": "xAWPgSI2nZN6"
      },
      "source": [
        "import random\n",
        "import csv"
      ],
      "execution_count": null,
      "outputs": []
    },
    {
      "cell_type": "code",
      "metadata": {
        "id": "_89KL5aCnuyo"
      },
      "source": [
        "attributes = [['Sunny','Rainy'],\n",
        "              ['Warm','Cold'],\n",
        "              ['Normal','High'],\n",
        "              ['Strong','Weak'],\n",
        "              ['Warm','Cool'],\n",
        "              ['Same','Change']]"
      ],
      "execution_count": null,
      "outputs": []
    },
    {
      "cell_type": "code",
      "metadata": {
        "id": "ldbBuk-4nyCw"
      },
      "source": [
        "num_attributes = len(attributes)"
      ],
      "execution_count": null,
      "outputs": []
    },
    {
      "cell_type": "code",
      "metadata": {
        "colab": {
          "base_uri": "https://localhost:8080/"
        },
        "id": "9PAXqf5nnybZ",
        "outputId": "d3077e8c-72a1-43e0-e9b4-37e4765f141a"
      },
      "source": [
        "print (\" \\n The most general hypothesis : ['?','?','?','?','?','?']\\n\")"
      ],
      "execution_count": null,
      "outputs": [
        {
          "output_type": "stream",
          "name": "stdout",
          "text": [
            " \n",
            " The most general hypothesis : ['?','?','?','?','?','?']\n",
            "\n"
          ]
        }
      ]
    },
    {
      "cell_type": "code",
      "metadata": {
        "colab": {
          "base_uri": "https://localhost:8080/"
        },
        "id": "c41Vm-Tinye4",
        "outputId": "07baf6e4-f851-4d4a-a540-2292df6261f4"
      },
      "source": [
        "print (\"\\n The most specific hypothesis : ['0','0','0','0','0','0']\\n\")"
      ],
      "execution_count": null,
      "outputs": [
        {
          "output_type": "stream",
          "name": "stdout",
          "text": [
            "\n",
            " The most specific hypothesis : ['0','0','0','0','0','0']\n",
            "\n"
          ]
        }
      ]
    },
    {
      "cell_type": "code",
      "metadata": {
        "id": "Ktc0HlFLoHLb"
      },
      "source": [
        "a = []"
      ],
      "execution_count": null,
      "outputs": []
    },
    {
      "cell_type": "code",
      "metadata": {
        "colab": {
          "base_uri": "https://localhost:8080/"
        },
        "id": "qb3plAzQoHPF",
        "outputId": "8f02e123-9547-4413-bba3-2f60ebbb8b3f"
      },
      "source": [
        "print(\"\\n The Given Training Data Set \\n\")"
      ],
      "execution_count": null,
      "outputs": [
        {
          "output_type": "stream",
          "name": "stdout",
          "text": [
            "\n",
            " The Given Training Data Set \n",
            "\n"
          ]
        }
      ]
    },
    {
      "cell_type": "code",
      "metadata": {
        "colab": {
          "base_uri": "https://localhost:8080/"
        },
        "id": "yGeb4Y1Tnyib",
        "outputId": "ac1f015a-153c-4718-970c-e1161d1be172"
      },
      "source": [
        "with open('/content/FINDS-3511.csv') as csvFile:\n",
        "    reader = csv.reader(csvFile)\n",
        "    for row in reader:\n",
        "        a.append (row)\n",
        "        print(row)"
      ],
      "execution_count": null,
      "outputs": [
        {
          "output_type": "stream",
          "name": "stdout",
          "text": [
            "['Sunny', 'Warm', 'Normal', 'Strong', 'Warm', 'Same', 'Yes']\n",
            "['Sunny', 'Warm', 'High', 'Strong', 'Warm', 'Same', 'Yes']\n",
            "['Rainy', 'Cold', 'High', 'Strong', 'Warm', 'Change', 'No']\n",
            "['Sunny', 'Warm', 'High', 'Strong', 'Cool', 'Change', 'Yes']\n"
          ]
        }
      ]
    },
    {
      "cell_type": "code",
      "metadata": {
        "colab": {
          "base_uri": "https://localhost:8080/"
        },
        "id": "OA2wa84dpXL9",
        "outputId": "f1a3597b-507e-4060-9f05-d19b2175402c"
      },
      "source": [
        "print(\"\\n The initial value of hypothesis: \")\n",
        "hypothesis = ['0'] * num_attributes\n",
        "print(hypothesis)"
      ],
      "execution_count": null,
      "outputs": [
        {
          "output_type": "stream",
          "name": "stdout",
          "text": [
            "\n",
            " The initial value of hypothesis: \n",
            "['0', '0', '0', '0', '0', '0']\n"
          ]
        }
      ]
    },
    {
      "cell_type": "code",
      "metadata": {
        "id": "WHR90FcEpXPj"
      },
      "source": [
        "# Comparing with First Training Example \n",
        "for j in range(0,num_attributes):\n",
        "        hypothesis[j] = a[0][j];"
      ],
      "execution_count": null,
      "outputs": []
    },
    {
      "cell_type": "code",
      "metadata": {
        "colab": {
          "base_uri": "https://localhost:8080/"
        },
        "id": "LZfMQu1rpXWD",
        "outputId": "999d75a9-a06d-4160-d7b1-72c59e51322a"
      },
      "source": [
        "# Comparing with Remaining Training Examples of Given Data Set\n",
        " \n",
        "print(\"\\n Find S: Finding a Maximally Specific Hypothesis\\n\")"
      ],
      "execution_count": null,
      "outputs": [
        {
          "output_type": "stream",
          "name": "stdout",
          "text": [
            "\n",
            " Find S: Finding a Maximally Specific Hypothesis\n",
            "\n"
          ]
        }
      ]
    },
    {
      "cell_type": "code",
      "metadata": {
        "colab": {
          "base_uri": "https://localhost:8080/"
        },
        "id": "9vDR1rndpXZG",
        "outputId": "0580d65d-c838-4f71-c07a-f5d2199e4574"
      },
      "source": [
        "for i in range(0,len(a)):\n",
        "    if a[i][num_attributes]=='Yes':\n",
        "            for j in range(0,num_attributes):\n",
        "                if a[i][j]!=hypothesis[j]:\n",
        "                    hypothesis[j]='?'\n",
        "                else :\n",
        "                    hypothesis[j]= a[i][j] \n",
        "    print(\" For Training Example No :{0} the hypothesis is \".format(i),hypothesis)"
      ],
      "execution_count": null,
      "outputs": [
        {
          "output_type": "stream",
          "name": "stdout",
          "text": [
            " For Training Example No :0 the hypothesis is  ['Sunny', 'Warm', 'Normal', 'Strong', 'Warm', 'Same']\n",
            " For Training Example No :1 the hypothesis is  ['Sunny', 'Warm', '?', 'Strong', 'Warm', 'Same']\n",
            " For Training Example No :2 the hypothesis is  ['Sunny', 'Warm', '?', 'Strong', 'Warm', 'Same']\n",
            " For Training Example No :3 the hypothesis is  ['Sunny', 'Warm', '?', 'Strong', '?', '?']\n"
          ]
        }
      ]
    },
    {
      "cell_type": "code",
      "metadata": {
        "colab": {
          "base_uri": "https://localhost:8080/"
        },
        "id": "WFv13xNIpqWD",
        "outputId": "57346794-431c-474f-e666-08e9413de179"
      },
      "source": [
        "print(\"\\n The Maximally Specific Hypothesis for a given Training Examples :\\n\")\n",
        "print(hypothesis)"
      ],
      "execution_count": null,
      "outputs": [
        {
          "output_type": "stream",
          "name": "stdout",
          "text": [
            "\n",
            " The Maximally Specific Hypothesis for a given Training Examples :\n",
            "\n",
            "['Sunny', 'Warm', '?', 'Strong', '?', '?']\n"
          ]
        }
      ]
    },
    {
      "cell_type": "code",
      "metadata": {
        "id": "vuOpyN4ypqft"
      },
      "source": [
        ""
      ],
      "execution_count": null,
      "outputs": []
    },
    {
      "cell_type": "code",
      "metadata": {
        "id": "YLTQg-aspqil"
      },
      "source": [
        ""
      ],
      "execution_count": null,
      "outputs": []
    }
  ]
}